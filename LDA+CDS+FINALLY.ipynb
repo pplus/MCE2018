{
 "cells": [
  {
   "cell_type": "code",
   "execution_count": 1,
   "metadata": {},
   "outputs": [],
   "source": [
    "import numpy as np\n",
    "import matplotlib.pyplot as plt\n",
    "from sklearn.metrics import roc_curve, auc\n",
    "from sklearn.linear_model import LogisticRegression\n",
    "from sklearn.discriminant_analysis import LinearDiscriminantAnalysis as LDA\n"
   ]
  },
  {
   "cell_type": "code",
   "execution_count": 2,
   "metadata": {},
   "outputs": [],
   "source": [
    "## making dictionary to find blacklist pair between train and test dataset\n",
    "bl_match = np.loadtxt('data/bl_matching_dev.csv',dtype='str')\n",
    "dev2train={}\n",
    "dev2id={}\n",
    "train2dev={}\n",
    "train2id={}\n",
    "for iter, line in enumerate(bl_match):\n",
    "    line_s = line.split(',')\n",
    "    dev2train[line_s[1].split('_')[-1]]= line_s[2].split('_')[-1]\n",
    "    dev2id[line_s[1].split('_')[-1]]= line_s[0].split('_')[-1]\n",
    "    train2dev[line_s[2].split('_')[-1]]= line_s[1].split('_')[-1]\n",
    "    train2id[line_s[2].split('_')[-1]]= line_s[0].split('_')[-1]\n",
    "    "
   ]
  },
  {
   "cell_type": "code",
   "execution_count": 3,
   "metadata": {},
   "outputs": [],
   "source": [
    "def load_ivector(filename):\n",
    "    utt = np.loadtxt(filename,dtype='str',delimiter=',',skiprows=1,usecols=[0])\n",
    "    ivector = np.loadtxt(filename,dtype='float32',delimiter=',',skiprows=1,usecols=range(1,601))\n",
    "    spk_id = []\n",
    "    for iter in range(len(utt)):\n",
    "        spk_id = np.append(spk_id,utt[iter].split('_')[0])\n",
    "\n",
    "    return spk_id, utt, ivector\n",
    "\n",
    "def length_norm(mat):\n",
    "# length normalization (l2 norm)\n",
    "# input: mat = [utterances X vector dimension] ex) (float) 8631 X 600\n",
    "\n",
    "    norm_mat = []\n",
    "    for line in mat:\n",
    "        temp = line/np.math.sqrt(sum(np.power(line,2)))\n",
    "        norm_mat.append(temp)\n",
    "    norm_mat = np.array(norm_mat)\n",
    "    return norm_mat\n",
    "\n",
    "def make_spkvec(mat, spk_label):\n",
    "# calculating speaker mean vector\n",
    "# input: mat = [utterances X vector dimension] ex) (float) 8631 X 600\n",
    "#        spk_label = string vector ex) ['abce','cdgd']\n",
    "\n",
    "#     for iter in range(len(spk_label)):\n",
    "#         spk_label[iter] = spk_label[iter].split('_')[0]\n",
    "\n",
    "    spk_label, spk_index  = np.unique(spk_label,return_inverse=True)\n",
    "    spk_mean=[]\n",
    "    mat = np.array(mat)\n",
    "\n",
    "    # calculating speaker mean i-vector\n",
    "    for i, spk in enumerate(spk_label):\n",
    "        spk_mean.append(np.mean(mat[np.nonzero(spk_index==i)],axis=0))\n",
    "    spk_mean = length_norm(spk_mean)\n",
    "    return spk_mean, spk_label\n",
    "\n",
    "def calculate_EER(trials, scores):\n",
    "# calculating EER of Top-S detector\n",
    "# input: trials = boolean(or int) vector, 1: postive(blacklist) 0: negative(background)\n",
    "#        scores = float vector\n",
    "\n",
    "    # Calculating EER\n",
    "    fpr,tpr,threshold = roc_curve(trials,scores,pos_label=1)\n",
    "    fnr = 1-tpr\n",
    "    EER_threshold = threshold[np.argmin(abs(fnr-fpr))]\n",
    "    \n",
    "    #plot auc\n",
    "    roc_auc = auc(fpr, tpr)\n",
    "    plt.plot(fpr, tpr, lw=1)\n",
    "    plt.show()\n",
    "    \n",
    "    # print EER_threshold\n",
    "    EER_fpr = fpr[np.argmin(np.absolute((fnr-fpr)))]\n",
    "    EER_fnr = fnr[np.argmin(np.absolute((fnr-fpr)))]\n",
    "    EER = 0.5 * (EER_fpr+EER_fnr)\n",
    "    \n",
    "    print (\"Top S detector EER is %0.2f%%\"% (EER*100))\n",
    "    return EER\n",
    "\n",
    "def get_trials_label_with_confusion(identified_label, groundtruth_label,dict4spk,is_trial ):\n",
    "# determine if the test utterance would make confusion error\n",
    "# input: identified_label = string vector, identified result of test utterance among multi-target from the detection system \n",
    "#        groundtruth_label = string vector, ground truth speaker labels of test utterances\n",
    "#        dict4spk = dictionary, convert label to target set, ex) train2dev convert train id to dev id\n",
    "\n",
    "    trials = np.zeros(len(identified_label))\n",
    "    for iter in range(0,len(groundtruth_label)):\n",
    "        enroll = identified_label[iter].split('_')[0]\n",
    "        test = groundtruth_label[iter].split('_')[0]\n",
    "        if is_trial[iter]:\n",
    "            if enroll == dict4spk[test]:\n",
    "                trials[iter]=1 # for Target trial (blacklist speaker)\n",
    "            else:\n",
    "                trials[iter]=-1 # for Target trial (backlist speaker), but fail on blacklist classifier\n",
    "                \n",
    "        else :\n",
    "            trials[iter]=0 # for non-target (non-blacklist speaker)\n",
    "    return trials\n",
    "\n",
    "def calculate_EER_with_confusion(scores,trials):\n",
    "# calculating EER of Top-1 detector\n",
    "# input: trials = boolean(or int) vector, 1: postive(blacklist) 0: negative(background) -1: confusion(blacklist)\n",
    "#        scores = float vector\n",
    "\n",
    "    # exclude confusion error (trials==-1)\n",
    "    scores_wo_confusion = scores[np.nonzero(trials!=-1)[0]]\n",
    "    trials_wo_confusion = trials[np.nonzero(trials!=-1)[0]]\n",
    "\n",
    "    # dev_trials contain labels of target. (target=1, non-target=0)\n",
    "    fpr,tpr,threshold = roc_curve(trials_wo_confusion,scores_wo_confusion,pos_label=1, drop_intermediate=False)\n",
    "    fnr = 1-tpr\n",
    "    EER_threshold = threshold[np.argmin(abs(fnr-fpr))]\n",
    "    \n",
    "    # EER withouth confusion error\n",
    "    EER = fpr[np.argmin(np.absolute((fnr-fpr)))]\n",
    "    \n",
    "    # Add confusion error to false negative rate(Miss rate)\n",
    "    total_negative = len(np.nonzero(np.array(trials_wo_confusion)==0)[0])\n",
    "    total_positive = len(np.nonzero(np.array(trials_wo_confusion)==1)[0])\n",
    "    fp= fpr*np.float(total_negative)  \n",
    "    fn= fnr*np.float(total_positive) \n",
    "    fn += len(np.nonzero(trials==-1)[0])\n",
    "    total_positive += len(np.nonzero(trials==-1)[0])\n",
    "    fpr= fp/total_negative\n",
    "    fnr= fn/total_positive\n",
    "\n",
    "    # EER with confusion Error\n",
    "    EER_threshold = threshold[np.argmin(abs(fnr-fpr))]\n",
    "    EER_fpr = fpr[np.argmin(np.absolute((fnr-fpr)))]\n",
    "    EER_fnr = fnr[np.argmin(np.absolute((fnr-fpr)))]\n",
    "    EER = 0.5 * (EER_fpr+EER_fnr)\n",
    "    \n",
    "    print (\"Top 1 detector EER is %0.2f%% (Total confusion error is %d)\"% ((EER*100), len(np.nonzero(trials==-1)[0])))\n",
    "    return EER\n",
    "\n",
    "# Loading i-vector\n",
    "trn_bl_id, trn_bl_utt, trn_bl_ivector = load_ivector('data/trn_blacklist.csv')\n",
    "trn_bg_id, trn_bg_utt, trn_bg_ivector = load_ivector('data/trn_background.csv')\n",
    "dev_bl_id, dev_bl_utt, dev_bl_ivector = load_ivector('data/dev_blacklist.csv')\n",
    "dev_bg_id, dev_bg_utt, dev_bg_ivector = load_ivector('data/dev_background.csv')\n",
    "\n",
    "# Calculating speaker mean vector\n",
    "#spk_mean, spk_mean_label = make_spkvec(trn_bl_ivector,trn_bl_id)\n"
   ]
  },
  {
   "cell_type": "code",
   "execution_count": 4,
   "metadata": {},
   "outputs": [
    {
     "name": "stdout",
     "output_type": "stream",
     "text": [
      "\n",
      "Dev set score using train set :\n"
     ]
    }
   ],
   "source": [
    "#length normalization\n",
    "trn_bl_ivector = length_norm(trn_bl_ivector)\n",
    "trn_bg_ivector = length_norm(trn_bg_ivector)\n",
    "dev_bl_ivector = length_norm(dev_bl_ivector)\n",
    "dev_bg_ivector = length_norm(dev_bg_ivector)\n",
    "#spk_mean = length_norm(spk_mean)\n",
    "\n",
    "\n",
    "print ('\\nDev set score using train set :')\n",
    "# making trials of Dev set\n",
    "dev_ivector = np.append(dev_bl_ivector, dev_bg_ivector,axis=0)\n",
    "dev_trials = np.append(np.ones([len(dev_bl_id), 1]), np.zeros([len(dev_bg_id), 1]))\n",
    "\n",
    "# making trials of Trn set\n",
    "trn_ivector = np.append(trn_bl_ivector, trn_bg_ivector,axis=0)\n",
    "trn_trials = np.append(np.ones([len(trn_bl_id), 1]), np.zeros([len(trn_bg_id), 1]))\n",
    "\n",
    "#making total ivector and trial of Trn + Dev set\n",
    "total_ivector = np.append(trn_ivector,dev_ivector,axis=0)\n",
    "total_trials = np.append(trn_trials, dev_trials)\n"
   ]
  },
  {
   "cell_type": "code",
   "execution_count": 5,
   "metadata": {},
   "outputs": [
    {
     "name": "stdout",
     "output_type": "stream",
     "text": [
      "14524\n"
     ]
    }
   ],
   "source": [
    "## making total blacklist set\n",
    "total_bl_ivector = np.append(trn_bl_ivector, dev_bl_ivector,axis=0)\n",
    "#total_bl_ivector = length_norm(total_bl_ivector)\n",
    "#print(trn_bl_id)\n",
    "\n",
    "#print(dev2train.get(dev_bl_id))\n",
    "#total_bl_id = np.append(trn_bl_id, dev2train.get(dev_bl_id))\n",
    "values = []\n",
    "for k in dev_bl_id:\n",
    "    value = dev2train.get(k)\n",
    "    values.append(value)\n",
    "#print(len(values))\n",
    "total_bl_id = np.append(trn_bl_id, values)\n",
    "print(len(total_bl_id))\n"
   ]
  },
  {
   "cell_type": "code",
   "execution_count": 6,
   "metadata": {},
   "outputs": [],
   "source": [
    "# Calculating speaker mean vector\n",
    "spk_mean, spk_mean_label = make_spkvec(total_bl_ivector,total_bl_id) \n",
    "#print(len(spk_mean))\n",
    "#print(spk_mean)\n",
    "#print(len(spk_mean_label))\n",
    "#print(spk_mean_label)"
   ]
  },
  {
   "cell_type": "code",
   "execution_count": 7,
   "metadata": {},
   "outputs": [
    {
     "name": "stderr",
     "output_type": "stream",
     "text": [
      "/Library/Frameworks/Python.framework/Versions/3.6/lib/python3.6/site-packages/sklearn/discriminant_analysis.py:442: UserWarning: The priors do not sum to 1. Renormalizing\n",
      "  UserWarning)\n"
     ]
    }
   ],
   "source": [
    "# lda \n",
    "ldamodule1 = LDA(n_components=600) # 300 350 400 450\n",
    "#ldamodule1.fit(np.asarray(trn_bl_ivector),np.asarray(trn_bl_id))\n",
    "ldamodule1.fit(np.asarray(total_bl_ivector),np.asarray(total_bl_id))\n",
    "model_ivec = ldamodule1.transform(np.asarray(spk_mean))\n",
    "test_ivec = ldamodule1.transform(np.asarray(dev_ivector))\n",
    "#trn_bl_ivector = ldamodule1.transform(np.asarray(trn_bl_ivector))\n",
    "total_bl_ivector = ldamodule1.transform(np.asarray(total_bl_ivector))\n",
    "\n",
    "#model_ivec =std_scale(model_ivec)\n",
    "#test_ivec =std_scale(test_ivec)\n",
    "#trn_bl_ivector =std_scale(trn_bl_ivector)\n",
    "\n",
    "model_ivec = length_norm(model_ivec)\n",
    "test_ivec = length_norm(test_ivec)\n",
    "#trn_bl_ivector = length_norm(trn_bl_ivector)\n",
    "total_bl_ivector = length_norm(total_bl_ivector)\n"
   ]
  },
  {
   "cell_type": "code",
   "execution_count": 8,
   "metadata": {},
   "outputs": [
    {
     "name": "stdout",
     "output_type": "stream",
     "text": [
      "[ 9.86611978 11.51033454 13.76611106 ...  3.45753464  2.59876505\n",
      "  2.2101593 ]\n"
     ]
    },
    {
     "data": {
      "image/png": "[encoded data removed]",
      "text/plain": [
       "<Figure size 432x288 with 1 Axes>"
      ]
     },
     "metadata": {},
     "output_type": "display_data"
    },
    {
     "name": "stdout",
     "output_type": "stream",
     "text": [
      "Top S detector EER is 0.00%\n",
      "Top 1 detector EER is 0.00% (Total confusion error is 0)\n"
     ]
    }
   ],
   "source": [
    "# Cosine distance scoring\n",
    "scores = model_ivec.dot(test_ivec.transpose())\n",
    "\n",
    "# Multi-target normalization\n",
    "#blscores = model_ivec.dot(trn_bl_ivector.transpose())\n",
    "blscores = model_ivec.dot(total_bl_ivector.transpose())\n",
    "mnorm_mu = np.mean(blscores,axis=1)\n",
    "mnorm_std = np.std(blscores,axis=1)\n",
    "for iter in range(np.shape(scores)[1]):\n",
    "    scores[:,iter]= (scores[:,iter] - mnorm_mu) / mnorm_std\n",
    "\n",
    "dev_scores = np.max(scores,axis=0)\n",
    "print(dev_scores)\n",
    "dev_EER = calculate_EER(dev_trials, dev_scores)\n",
    "\n",
    "\n",
    "#divide trial label into target and non-target, plus confusion error(blacklist, fail at blacklist detector)\n",
    "dev_identified_label = spk_mean_label[np.argmax(scores,axis=0)]\n",
    "dev_trials_label = np.append( dev_bl_id,dev_bg_id)\n",
    "dev_trials_utt_label = np.append( dev_bl_utt,dev_bg_utt)\n",
    "\n",
    "# Top-1 detector EER\n",
    "dev_trials_confusion = get_trials_label_with_confusion(dev_identified_label, dev_trials_label, dev2train, dev_trials )\n",
    "dev_EER_confusion = calculate_EER_with_confusion(dev_scores,dev_trials_confusion)\n"
   ]
  },
  {
   "cell_type": "code",
   "execution_count": 9,
   "metadata": {},
   "outputs": [
    {
     "name": "stderr",
     "output_type": "stream",
     "text": [
      "/Library/Frameworks/Python.framework/Versions/3.6/lib/python3.6/site-packages/sklearn/discriminant_analysis.py:442: UserWarning: The priors do not sum to 1. Renormalizing\n",
      "  UserWarning)\n"
     ]
    },
    {
     "name": "stdout",
     "output_type": "stream",
     "text": [
      "[15.56723705 15.38871861 17.43725972 ...  3.6023937   3.16344589\n",
      "  2.64323295]\n"
     ]
    },
    {
     "data": {
      "image/png": "[encoded data removed]",
      "text/plain": [
       "<Figure size 432x288 with 1 Axes>"
      ]
     },
     "metadata": {},
     "output_type": "display_data"
    },
    {
     "data": {
      "image/png": "[encoded data removed]",
      "text/plain": [
       "<Figure size 432x288 with 1 Axes>"
      ]
     },
     "metadata": {},
     "output_type": "display_data"
    },
    {
     "name": "stdout",
     "output_type": "stream",
     "text": [
      "Top S detector EER is 0.00%\n",
      "Top 1 detector EER is 0.00% (Total confusion error is 0)\n"
     ]
    }
   ],
   "source": [
    "# lda \n",
    "ldamodule1 = LDA(n_components=600)\n",
    "#ldamodule1.fit(np.asarray(trn_bl_ivector),np.asarray(trn_bl_id))\n",
    "ldamodule1.fit(np.asarray(total_bl_ivector),np.asarray(total_bl_id))\n",
    "model_ivec = ldamodule1.transform(np.asarray(spk_mean))\n",
    "test_ivec = ldamodule1.transform(np.asarray(dev_ivector))\n",
    "trn_bl_ivector = ldamodule1.transform(np.asarray(trn_bl_ivector))\n",
    "total_bl_ivector = ldamodule1.transform(np.asarray(total_bl_ivector))\n",
    "\n",
    "#model_ivec =std_scale(model_ivec)\n",
    "#test_ivec =std_scale(test_ivec)\n",
    "#trn_bl_ivector =std_scale(trn_bl_ivector)\n",
    "\n",
    "model_ivec = length_norm(model_ivec)\n",
    "test_ivec = length_norm(test_ivec)\n",
    "trn_bl_ivector = length_norm(trn_bl_ivector)\n",
    "total_bl_ivector = length_norm(total_bl_ivector)\n",
    "\n",
    "# Cosine distance scoring\n",
    "scores = model_ivec.dot(test_ivec.transpose())\n",
    "\n",
    "# Multi-target normalization\n",
    "#blscores = model_ivec.dot(trn_bl_ivector.transpose())\n",
    "blscores = model_ivec.dot(total_bl_ivector.transpose())\n",
    "mnorm_mu = np.mean(blscores,axis=1)\n",
    "mnorm_std = np.std(blscores,axis=1)\n",
    "for iter in range(np.shape(scores)[1]):\n",
    "    scores[:,iter]= (scores[:,iter] - mnorm_mu) / mnorm_std\n",
    "dev_scores = np.max(scores,axis=0)\n",
    "print(dev_scores)\n",
    "\n",
    "plt.scatter(dev_scores,dev_trials)\n",
    "plt.show()\n",
    "\n",
    "# Top-S detector EER\n",
    "dev_EER = calculate_EER(dev_trials, dev_scores)\n",
    "\n",
    "#divide trial label into target and non-target, plus confusion error(blacklist, fail at blacklist detector)\n",
    "dev_identified_label = spk_mean_label[np.argmax(scores,axis=0)]\n",
    "dev_trials_label = np.append( dev_bl_id,dev_bg_id)\n",
    "dev_trials_utt_label = np.append( dev_bl_utt,dev_bg_utt)\n",
    "\n",
    "#plt.scatter(dev_scores,dev_identified_label)\n",
    "#plt.show()\n",
    "\n",
    "# Top-1 detector EER\n",
    "dev_trials_confusion = get_trials_label_with_confusion(dev_identified_label, dev_trials_label, dev2train, dev_trials )\n",
    "dev_EER_confusion = calculate_EER_with_confusion(dev_scores,dev_trials_confusion)"
   ]
  },
  {
   "cell_type": "code",
   "execution_count": null,
   "metadata": {},
   "outputs": [],
   "source": []
  },
  {
   "cell_type": "code",
   "execution_count": null,
   "metadata": {},
   "outputs": [],
   "source": []
  },
  {
   "cell_type": "code",
   "execution_count": null,
   "metadata": {},
   "outputs": [],
   "source": []
  },
  {
   "cell_type": "code",
   "execution_count": null,
   "metadata": {},
   "outputs": [],
   "source": []
  }
 ],
 "metadata": {
  "kernelspec": {
   "display_name": "Python 3",
   "language": "python",
   "name": "python3"
  },
  "language_info": {
   "codemirror_mode": {
    "name": "ipython",
    "version": 3
   },
   "file_extension": ".py",
   "mimetype": "text/x-python",
   "name": "python",
   "nbconvert_exporter": "python",
   "pygments_lexer": "ipython3",
   "version": "3.6.4"
  }
 },
 "nbformat": 4,
 "nbformat_minor": 2
}
